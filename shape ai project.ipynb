{
  "nbformat": 4,
  "nbformat_minor": 0,
  "metadata": {
    "colab": {
      "name": "Untitled2.ipynb",
      "provenance": [],
      "authorship_tag": "ABX9TyPbxkzG1j6pM7Q90xctyOsY",
      "include_colab_link": true
    },
    "kernelspec": {
      "name": "python3",
      "display_name": "Python 3"
    },
    "language_info": {
      "name": "python"
    }
  },
  "cells": [
    {
      "cell_type": "markdown",
      "metadata": {
        "id": "view-in-github",
        "colab_type": "text"
      },
      "source": [
        "<a href=\"https://colab.research.google.com/github/ARUNSUR3SH/shape-ai/blob/main/shape%20ai%20project.ipynb\" target=\"_parent\"><img src=\"https://colab.research.google.com/assets/colab-badge.svg\" alt=\"Open In Colab\"/></a>"
      ]
    },
    {
      "cell_type": "code",
      "metadata": {
        "colab": {
          "base_uri": "https://localhost:8080/"
        },
        "id": "W7cQj5CobFXq",
        "outputId": "9a3344c5-f0f3-4c63-e0ba-f021aa63167e"
      },
      "source": [
        "#import os\n",
        "import requests\n",
        "from datetime import datetime\n",
        "\n",
        "api_key = '87d845b0b6cf29baa1a73cc34b067a95'\n",
        "location = input(\"Enter the city name: \")\n",
        "\n",
        "complete_api_link = \"https://api.openweathermap.org/data/2.5/weather?q=\"+location+\"&appid=\"+api_key\n",
        "api_link = requests.get(complete_api_link)\n",
        "api_data = api_link.json()\n",
        "\n",
        "#create variables to store and display data\n",
        "temp_city = ((api_data['main']['temp']) - 273.15)\n",
        "weather_desc = api_data['weather'][0]['description']\n",
        "hmdt = api_data['main']['humidity']\n",
        "wind_spd = api_data['wind']['speed']\n",
        "date_time = datetime.now().strftime(\"%d %b %Y | %I:%M:%S %p\")\n",
        "\n",
        "\n",
        "print (\"Weather Stats for - {}  || {}\".format(location.upper(), date_time))\n",
        "\n",
        "print (\"Current temperature : {:.2f} deg C\".format(temp_city))\n",
        "print (\"Current weather     :\",weather_desc)\n",
        "print (\"Current Humidity    :\",hmdt, '%')\n",
        "print (\"Current windspeed   :\",wind_spd ,'kmph')"
      ],
      "execution_count": 3,
      "outputs": [
        {
          "output_type": "stream",
          "text": [
            "Enter the city name: palakkad\n",
            "Weather Stats for - PALAKKAD  || 23 Jun 2021 | 10:32:28 AM\n",
            "Current temperature : 34.03 deg C\n",
            "Current weather     : overcast clouds\n",
            "Current Humidity    : 66 %\n",
            "Current windspeed   : 5.75 kmph\n"
          ],
          "name": "stdout"
        }
      ]
    }
  ]
}