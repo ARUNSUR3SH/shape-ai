{
  "nbformat": 4,
  "nbformat_minor": 0,
  "metadata": {
    "colab": {
      "name": "Untitled3.ipynb",
      "provenance": [],
      "authorship_tag": "ABX9TyPVHHBw1s0uWBfD+lz7bc25",
      "include_colab_link": true
    },
    "kernelspec": {
      "name": "python3",
      "display_name": "Python 3"
    },
    "language_info": {
      "name": "python"
    }
  },
  "cells": [
    {
      "cell_type": "markdown",
      "metadata": {
        "id": "view-in-github",
        "colab_type": "text"
      },
      "source": [
        "<a href=\"https://colab.research.google.com/github/ARUNSUR3SH/shape-ai/blob/main/shapeAI%20python%20project.ipynb\" target=\"_parent\"><img src=\"https://colab.research.google.com/assets/colab-badge.svg\" alt=\"Open In Colab\"/></a>"
      ]
    },
    {
      "cell_type": "code",
      "metadata": {
        "colab": {
          "base_uri": "https://localhost:8080/"
        },
        "id": "skvGqZNwh6zP",
        "outputId": "f04a916a-358c-4493-eed0-d46ecd012424"
      },
      "source": [
        "import requests\n",
        "#import os\n",
        "from datetime import datetime\n",
        "\n",
        "api_key = '433d4f9ab27033c8e705f3fae0a254c9'\n",
        "location = input(\"Enter the city name: \")\n",
        "\n",
        "complete_api_link = \"https://api.openweathermap.org/data/2.5/weather?q=\"+location+\"&appid=\"+api_key\n",
        "api_link = requests.get(complete_api_link)\n",
        "api_data = api_link.json()\n",
        "\n",
        "#create variables to store and display data\n",
        "temp_city=((api_data['main']['temp']) - 273.15)\n",
        "weather_desc = api_data['weather'][0]['description']\n",
        "hmdt = api_data['main']['humidity']\n",
        "wind_spd = api_data['wind']['speed']\n",
        "date_time = datetime.now().strftime(\"%d %b %Y | %I:%M:%S %p\")\n",
        "\n",
        "print (\"-------------------------------------------------------------\")\n",
        "print (\"Weather Stats for - {}  || {}\".format(location.upper(), date_time))\n",
        "print (\"-------------------------------------------------------------\")\n",
        "print (\"current temperature is: {:.2f} deg C\".format(temp_city))\n",
        "print (\"Current weather desc  :\",weather_desc)\n",
        "print (\"Current Humidity      :\",hmdt, '%')\n",
        "print (\"Current wind speed    :\",wind_spd ,'kmph')\n"
      ],
      "execution_count": 1,
      "outputs": [
        {
          "output_type": "stream",
          "text": [
            "Enter the city name: palakkad\n",
            "-------------------------------------------------------------\n",
            "Weather Stats for - PALAKKAD  || 23 Jun 2021 | 11:02:27 AM\n",
            "-------------------------------------------------------------\n",
            "current temperature is: 34.03 deg C\n",
            "Current weather desc  : overcast clouds\n",
            "Current Humidity      : 66 %\n",
            "Current wind speed    : 5.75 kmph\n"
          ],
          "name": "stdout"
        }
      ]
    },
    {
      "cell_type": "code",
      "metadata": {
        "id": "N3wcMPzwiBki"
      },
      "source": [
        "txtdoc=[temp_city,weather_desc,hmdt,wind_spd,date_time]\n",
        "with open(\"ArunSuresh.txt\",'w',encoding = 'utf-8')as f:\n",
        "  f.write(\"------------------------------------------------------------------------------------------------------------------------------\")\n",
        "  f.write(\"weather stats for - {} || {}\".format(location.upper(),date_time))\n",
        "  f.write(\"------------------------------------------------------------------------------------------------------------------------------\")\n",
        "  f.write(\"current Temperature is: (:.2f) deg (\\n\".format(txtdoc[0]))\n",
        "\n",
        "  f.write(\"{},{}\\n\".format(\"Current weather desc :\",txtdoc[1]))\n",
        "  f.write(\"{} ,{} ,{} \\n\".format(\"Current Humidity :\",txtdoc[2],\"%\"))\n",
        "  f.write(\"{} ,{} ,{} \\n\".format(\"Current wind speed :\",txtdoc[3],\"kmph\"))\n",
        "  f.write(\"-------------------------------------------------------------------------------------------------------------------------------\")\n",
        "  f.close"
      ],
      "execution_count": 3,
      "outputs": []
    }
  ]
}